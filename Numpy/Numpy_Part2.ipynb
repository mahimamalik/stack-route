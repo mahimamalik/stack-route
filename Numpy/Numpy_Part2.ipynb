{
 "cells": [
  {
   "cell_type": "markdown",
   "metadata": {},
   "source": [
    "## Numpy Assignment\n",
    "## Part B - Implement your own version of all the numpy api used in Part A"
   ]
  },
  {
   "cell_type": "code",
   "execution_count": 4,
   "metadata": {
    "collapsed": true
   },
   "outputs": [],
   "source": [
    "#Import Statements\n",
    "import numpy as np"
   ]
  },
  {
   "cell_type": "code",
   "execution_count": 111,
   "metadata": {
    "collapsed": false
   },
   "outputs": [],
   "source": [
    "array_1d = np.array([[3,6,8,0,1,2]])\n",
    "array_2d = np.array([[4,5,2,6,7],[9,4,0,3,1]])"
   ]
  },
  {
   "cell_type": "markdown",
   "metadata": {},
   "source": [
    "## Min function"
   ]
  },
  {
   "cell_type": "code",
   "execution_count": 5,
   "metadata": {
    "collapsed": false
   },
   "outputs": [],
   "source": [
    "def min_func(array):\n",
    "    min_ = array[0][0]\n",
    "    for i in range(array.shape[0]):\n",
    "        for j in range(array.shape[1]):\n",
    "            if(array[i][j] < min_):\n",
    "                min_ = array[i][j]\n",
    "    return min_"
   ]
  },
  {
   "cell_type": "markdown",
   "metadata": {},
   "source": [
    "## Max function"
   ]
  },
  {
   "cell_type": "code",
   "execution_count": 6,
   "metadata": {
    "collapsed": true
   },
   "outputs": [],
   "source": [
    "def max_func(array):\n",
    "    max_ = array[0][0]\n",
    "    for i in range(array.shape[0]):\n",
    "        for j in range(array.shape[1]):\n",
    "            if(array[i][j] > max_):\n",
    "                max_ = array[i][j]\n",
    "    return max_"
   ]
  },
  {
   "cell_type": "markdown",
   "metadata": {},
   "source": [
    "## Mean function"
   ]
  },
  {
   "cell_type": "code",
   "execution_count": 7,
   "metadata": {
    "collapsed": true
   },
   "outputs": [],
   "source": [
    "def mean_func(array):\n",
    "    sum_ = 0 \n",
    "    count = 0\n",
    "    for i in range(array.shape[0]):\n",
    "        for j in range(array.shape[1]):\n",
    "            sum_ += array[i][j]\n",
    "            count += 1\n",
    "    return sum_/count"
   ]
  },
  {
   "cell_type": "markdown",
   "metadata": {},
   "source": [
    "## Argmin function"
   ]
  },
  {
   "cell_type": "code",
   "execution_count": 11,
   "metadata": {
    "collapsed": true
   },
   "outputs": [],
   "source": [
    "def argmin_func(array):\n",
    "    min_ = array[0][0]\n",
    "    index = 0\n",
    "    for i in range(array.shape[0]):\n",
    "        for j in range(array.shape[1]):\n",
    "            index += 1\n",
    "            if(array[i][j] < min_):\n",
    "                min_ = array[i][j]\n",
    "                min_index = index\n",
    "    return min_index -1"
   ]
  },
  {
   "cell_type": "markdown",
   "metadata": {},
   "source": [
    "## Argmax function"
   ]
  },
  {
   "cell_type": "code",
   "execution_count": 16,
   "metadata": {
    "collapsed": true
   },
   "outputs": [],
   "source": [
    "def argmax_func(array):\n",
    "    max_ = array[0][0]\n",
    "    index = 0\n",
    "    for i in range(array.shape[0]):\n",
    "        for j in range(array.shape[1]):\n",
    "            index += 1\n",
    "            if(array[i][j] > max_):\n",
    "                max_ = array[i][j]\n",
    "                max_index = index\n",
    "    return max_index -1"
   ]
  },
  {
   "cell_type": "markdown",
   "metadata": {},
   "source": [
    "## Flatten function"
   ]
  },
  {
   "cell_type": "code",
   "execution_count": 26,
   "metadata": {
    "collapsed": true
   },
   "outputs": [],
   "source": [
    "def flatten_func(array):\n",
    "    flatten_array = np.zeros(array.shape[0]*array.shape[1], dtype = array.dtype)\n",
    "    k = 0\n",
    "    for i in range(array.shape[0]):\n",
    "        for j in range(array.shape[1]):\n",
    "            flatten_array[k] = array[i][j]\n",
    "            k += 1\n",
    "    return flatten_array    "
   ]
  },
  {
   "cell_type": "markdown",
   "metadata": {},
   "source": [
    "## Ravel function"
   ]
  },
  {
   "cell_type": "code",
   "execution_count": 40,
   "metadata": {
    "collapsed": true
   },
   "outputs": [],
   "source": [
    "def ravel_func(array):\n",
    "    ravel_array = []\n",
    "    for i in range(array.shape[0]):\n",
    "        for j in range(array.shape[1]):\n",
    "            ravel_array.append(array[i][j])\n",
    "    return np.array(ravel_array)"
   ]
  },
  {
   "cell_type": "markdown",
   "metadata": {},
   "source": [
    "## Dot Product function"
   ]
  },
  {
   "cell_type": "code",
   "execution_count": 61,
   "metadata": {
    "collapsed": true
   },
   "outputs": [],
   "source": [
    "def dot_prod(array1, array2):\n",
    "    sum_ = 0\n",
    "    for i in range(array1.shape[0]):\n",
    "        for j in range(array1.shape[1]):\n",
    "            sum_ += array1[i][j] * array2[i][j]\n",
    "    return sum_"
   ]
  },
  {
   "cell_type": "markdown",
   "metadata": {},
   "source": [
    "## * (ELement-wise multiplication) function"
   ]
  },
  {
   "cell_type": "code",
   "execution_count": 77,
   "metadata": {
    "collapsed": false
   },
   "outputs": [],
   "source": [
    "def prod_func(array1,array2):\n",
    "    prod_array = np.zeros(array1.shape, dtype = array1.dtype)\n",
    "    for i in range(array1.shape[0]):\n",
    "        for j in range(array1.shape[1]):\n",
    "            prod_array[i][j] = array1[i][j]*array2[i][j]\n",
    "    return prod_array"
   ]
  },
  {
   "cell_type": "markdown",
   "metadata": {},
   "source": [
    "## Arange function"
   ]
  },
  {
   "cell_type": "code",
   "execution_count": 114,
   "metadata": {
    "collapsed": true
   },
   "outputs": [],
   "source": [
    "def arange_func(lower_bound, upper_bound):\n",
    "    length = upper_bound - lower_bound\n",
    "    if(type(length) == float):\n",
    "        array = np.array([lower_bound + x*(upper_bound-lower_bound)/length for x in range(int(length) + 1)])\n",
    "    else:\n",
    "        array = np.array([int(lower_bound + x*(upper_bound-lower_bound)/length) for x in range(length)])\n",
    "    return array"
   ]
  },
  {
   "cell_type": "markdown",
   "metadata": {},
   "source": [
    "## Reshape function"
   ]
  },
  {
   "cell_type": "code",
   "execution_count": 121,
   "metadata": {
    "collapsed": false
   },
   "outputs": [],
   "source": [
    "def reshape_func(array, shape):\n",
    "    reshaped_array = np.zeros(shape, dtype = array.dtype)\n",
    "    k = 0\n",
    "    for i in range(shape[0]):\n",
    "        for j in range(shape[1]):\n",
    "            reshaped_array[i][j] = np.array(array[0][k])\n",
    "            k += 1\n",
    "    return reshaped_array"
   ]
  },
  {
   "cell_type": "markdown",
   "metadata": {},
   "source": [
    "## Identity/Eye Function"
   ]
  },
  {
   "cell_type": "code",
   "execution_count": 68,
   "metadata": {
    "collapsed": false
   },
   "outputs": [],
   "source": [
    "def identity_fun(shape):\n",
    "    identity_array = np.zeros((shape,shape), dtype = int)\n",
    "    for i in range(shape):\n",
    "        for j in range(shape):\n",
    "            if(i == j):\n",
    "                identity_array[i][j] = 1\n",
    "            else:\n",
    "                identity_array[i][j] = 0\n",
    "    return identity_array"
   ]
  },
  {
   "cell_type": "markdown",
   "metadata": {},
   "source": [
    "## Sum function"
   ]
  },
  {
   "cell_type": "code",
   "execution_count": 72,
   "metadata": {
    "collapsed": true
   },
   "outputs": [],
   "source": [
    "def sum_func(array):\n",
    "    sum_ = 0\n",
    "    for i in range(array.shape[0]):\n",
    "        for j in range(array.shape[1]):\n",
    "            sum_ += array[i][j]\n",
    "    \n",
    "    return sum_"
   ]
  },
  {
   "cell_type": "markdown",
   "metadata": {},
   "source": [
    "## Diag function"
   ]
  },
  {
   "cell_type": "code",
   "execution_count": 78,
   "metadata": {
    "collapsed": true
   },
   "outputs": [],
   "source": [
    "def diag_func(array):\n",
    "    diag_list = []\n",
    "    for i in range(array.shape[0]):\n",
    "        for j in range(array.shape[1]):\n",
    "            if(i == j):\n",
    "                diag_list.append(array[i][j])\n",
    "    return np.array(diag_list)"
   ]
  },
  {
   "cell_type": "markdown",
   "metadata": {},
   "source": [
    "## Tril function"
   ]
  },
  {
   "cell_type": "code",
   "execution_count": 103,
   "metadata": {
    "collapsed": true
   },
   "outputs": [],
   "source": [
    "def tril_func(array):\n",
    "    for i in range(array.shape[0]):\n",
    "        for j in range(array.shape[1]):\n",
    "            if(i < j):\n",
    "                array[i][j] = 0\n",
    "    return array"
   ]
  },
  {
   "cell_type": "markdown",
   "metadata": {},
   "source": [
    "## Triu function"
   ]
  },
  {
   "cell_type": "code",
   "execution_count": 104,
   "metadata": {
    "collapsed": true
   },
   "outputs": [],
   "source": [
    "def triu_func(array):\n",
    "    for i in range(array.shape[0]):\n",
    "        for j in range(array.shape[1]):\n",
    "            if(i > j):\n",
    "                array[i][j] = 0\n",
    "                \n",
    "    return array"
   ]
  }
 ],
 "metadata": {
  "kernelspec": {
   "display_name": "Python 3",
   "language": "python",
   "name": "python3"
  },
  "language_info": {
   "codemirror_mode": {
    "name": "ipython",
    "version": 3
   },
   "file_extension": ".py",
   "mimetype": "text/x-python",
   "name": "python",
   "nbconvert_exporter": "python",
   "pygments_lexer": "ipython3",
   "version": "3.5.2"
  }
 },
 "nbformat": 4,
 "nbformat_minor": 2
}
