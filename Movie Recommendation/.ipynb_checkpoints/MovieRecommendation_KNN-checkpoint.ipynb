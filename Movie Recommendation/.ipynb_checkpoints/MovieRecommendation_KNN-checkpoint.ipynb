{
 "cells": [
  {
   "cell_type": "code",
   "execution_count": 6,
   "metadata": {
    "collapsed": true
   },
   "outputs": [],
   "source": [
    "# import statements\n",
    "import pandas as pd\n",
    "import numpy as np\n",
    "from surprise.prediction_algorithms.knns import KNNWithMeans as knn\n",
    "from surprise import Dataset\n",
    "from surprise import evaluate\n",
    "from sklearn.metrics.pairwise import cosine_similarity"
   ]
  },
  {
   "cell_type": "markdown",
   "metadata": {},
   "source": [
    "## Reading the data"
   ]
  },
  {
   "cell_type": "code",
   "execution_count": 8,
   "metadata": {
    "collapsed": false
   },
   "outputs": [],
   "source": [
    "col_name_rating = ['user_id', 'item_id', 'rating', 'timestamp']\n",
    "rating = pd.read_csv('u.data', sep='\\t', names = col_name_rating)\n",
    "\n",
    "col_name_user = ['user_id', 'age', 'gender', 'occupation', 'zip_code']\n",
    "users = pd.read_csv('u.user', sep='|', names = col_name_user)\n",
    "\n",
    "col_name_movies = ['movie_id', 'movie_title', 'release_date', 'video_release_date', 'IMDb_URL', 'unknown', 'Action', \n",
    "                   'Adventure','Animation', 'Children\\'s', 'Comedy', 'Crime', 'Documentary', 'Drama', 'Fantasy', \n",
    "                   'Film-Noir', 'Horror','Musical', 'Mystery', 'Romance', 'Sci-Fi', 'Thriller', 'War', 'Western']\n",
    "movies = pd.read_csv('u.item', sep='|', names = col_name_movies, encoding='latin-1')"
   ]
  },
  {
   "cell_type": "markdown",
   "metadata": {},
   "source": [
    "## KNN from scratch"
   ]
  },
  {
   "cell_type": "code",
   "execution_count": 52,
   "metadata": {
    "collapsed": false,
    "scrolled": true
   },
   "outputs": [
    {
     "name": "stdout",
     "output_type": "stream",
     "text": [
      "Number of users = 943 | Number of movies = 1682\n"
     ]
    }
   ],
   "source": [
    "n_users = rating.user_id.unique().shape[0]\n",
    "n_items = rating.item_id.unique().shape[0]\n",
    "print('Number of users = ' + str(n_users) + ' | Number of movies = ' + str(n_items)) "
   ]
  },
  {
   "cell_type": "code",
   "execution_count": 53,
   "metadata": {
    "collapsed": false
   },
   "outputs": [],
   "source": [
    "user_data_matrix = np.zeros((n_users, n_items))\n",
    "for line in rating.itertuples():\n",
    "    user_data_matrix[line[1]-1, line[2]-1] = line[3]"
   ]
  },
  {
   "cell_type": "markdown",
   "metadata": {},
   "source": [
    "## Normalising the dataset"
   ]
  },
  {
   "cell_type": "code",
   "execution_count": 54,
   "metadata": {
    "collapsed": false
   },
   "outputs": [],
   "source": [
    "mean_user_rating = np.nanmean(user_data_matrix,axis = 1)"
   ]
  },
  {
   "cell_type": "code",
   "execution_count": 55,
   "metadata": {
    "collapsed": false
   },
   "outputs": [],
   "source": [
    "ratings_diff = (user_data_matrix - mean_user_rating[:, np.newaxis]) \n",
    "rating_diff_new = np.nan_to_num(ratings_diff)"
   ]
  },
  {
   "cell_type": "markdown",
   "metadata": {},
   "source": [
    "## Training and test dataset"
   ]
  },
  {
   "cell_type": "code",
   "execution_count": 56,
   "metadata": {
    "collapsed": false
   },
   "outputs": [],
   "source": [
    "train = rating_diff_new[:-1]\n",
    "test = rating_diff_new[-1]"
   ]
  },
  {
   "cell_type": "markdown",
   "metadata": {},
   "source": [
    "## User-user similarity"
   ]
  },
  {
   "cell_type": "code",
   "execution_count": 63,
   "metadata": {
    "collapsed": false,
    "scrolled": true
   },
   "outputs": [
    {
     "name": "stderr",
     "output_type": "stream",
     "text": [
      "/home/user/stackRoute/lib/python3.5/site-packages/sklearn/utils/validation.py:395: DeprecationWarning: Passing 1d arrays as data is deprecated in 0.17 and will raise ValueError in 0.19. Reshape your data either using X.reshape(-1, 1) if your data has a single feature or X.reshape(1, -1) if it contains a single sample.\n",
      "  DeprecationWarning)\n"
     ]
    }
   ],
   "source": [
    "user_similarity =  cosine_similarity(train, test).T"
   ]
  },
  {
   "cell_type": "markdown",
   "metadata": {},
   "source": [
    "## Recommending movies for one user"
   ]
  },
  {
   "cell_type": "code",
   "execution_count": 64,
   "metadata": {
    "collapsed": false
   },
   "outputs": [],
   "source": [
    "users = list(user_similarity[0])\n",
    "sorted_users = sorted(users,reverse=True)\n",
    "list_top_users  = sorted_users[:5]"
   ]
  },
  {
   "cell_type": "code",
   "execution_count": 50,
   "metadata": {
    "collapsed": false
   },
   "outputs": [],
   "source": [
    "pred = np.zeros(train[0].shape)\n",
    "for i in list_top_users:\n",
    "    index = users.index(i)\n",
    "    pred += i*train[index]"
   ]
  },
  {
   "cell_type": "code",
   "execution_count": 18,
   "metadata": {
    "collapsed": true
   },
   "outputs": [],
   "source": [
    "sorted_pred = sorted(pred,reverse=True)\n",
    "top_pred = sorted_pred[:15]\n",
    "indexes = []\n",
    "pred_list = list(pred)\n",
    "for i in top_pred:\n",
    "    if (pred_list.index(i) not in indexes):\n",
    "        indexes.append(pred_list.index(i))"
   ]
  },
  {
   "cell_type": "code",
   "execution_count": 19,
   "metadata": {
    "collapsed": false
   },
   "outputs": [],
   "source": [
    "movies_watched_index = []\n",
    "for i in range(len(test)):\n",
    "    if (test[i]>0):\n",
    "        movies_watched_index.append(i+1)"
   ]
  },
  {
   "cell_type": "code",
   "execution_count": 45,
   "metadata": {
    "collapsed": false
   },
   "outputs": [],
   "source": [
    "## Movies the user has watched\n",
    "movies_watched=[]\n",
    "for i in movies_watched_index:\n",
    "    movies_watched.append(movies['movie_title'][movies['movie_id'] == i])\n",
    "\n",
    "## Movies the users can watch (recommended movies)\n",
    "movie_to_watch = []\n",
    "for i in (indexes):\n",
    "    if (i not in movies_watched_index):\n",
    "        movie_to_watch.extend(movies['movie_title'][movies['movie_id'] == i+1])"
   ]
  },
  {
   "cell_type": "code",
   "execution_count": 46,
   "metadata": {
    "collapsed": true
   },
   "outputs": [],
   "source": [
    "if (len(movie_to_watch) > len(movies_watched)):\n",
    "    movie_watched.extend(['']*(len(movie_to_watch) - len(movies_watched)))\n",
    "else:\n",
    "    movie_to_watch.extend(['']*(len(movies_watched) - len(movie_to_watch)))"
   ]
  },
  {
   "cell_type": "code",
   "execution_count": 47,
   "metadata": {
    "collapsed": true
   },
   "outputs": [],
   "source": [
    "recommended_movies = pd.DataFrame({\"Watched Movies\": movies_watched,\n",
    "                         \"Recommended Movies\":movie_to_watch})"
   ]
  },
  {
   "cell_type": "code",
   "execution_count": 48,
   "metadata": {
    "collapsed": true
   },
   "outputs": [
    {
     "data": {
      "text/html": [
       "<div>\n",
       "<table border=\"1\" class=\"dataframe\">\n",
       "  <thead>\n",
       "    <tr style=\"text-align: right;\">\n",
       "      <th></th>\n",
       "      <th>Recommended Movies</th>\n",
       "      <th>Watched Movies</th>\n",
       "    </tr>\n",
       "  </thead>\n",
       "  <tbody>\n",
       "    <tr>\n",
       "      <th>0</th>\n",
       "      <td>GoldenEye (1995)</td>\n",
       "      <td>1    GoldenEye (1995)\n",
       "Name: movie_title, dtype...</td>\n",
       "    </tr>\n",
       "    <tr>\n",
       "      <th>1</th>\n",
       "      <td></td>\n",
       "      <td>8    Dead Man Walking (1995)\n",
       "Name: movie_title...</td>\n",
       "    </tr>\n",
       "    <tr>\n",
       "      <th>2</th>\n",
       "      <td></td>\n",
       "      <td>10    Seven (Se7en) (1995)\n",
       "Name: movie_title, ...</td>\n",
       "    </tr>\n",
       "    <tr>\n",
       "      <th>3</th>\n",
       "      <td></td>\n",
       "      <td>11    Usual Suspects, The (1995)\n",
       "Name: movie_t...</td>\n",
       "    </tr>\n",
       "    <tr>\n",
       "      <th>4</th>\n",
       "      <td></td>\n",
       "      <td>21    Braveheart (1995)\n",
       "Name: movie_title, dty...</td>\n",
       "    </tr>\n",
       "    <tr>\n",
       "      <th>5</th>\n",
       "      <td></td>\n",
       "      <td>22    Taxi Driver (1976)\n",
       "Name: movie_title, dt...</td>\n",
       "    </tr>\n",
       "    <tr>\n",
       "      <th>6</th>\n",
       "      <td></td>\n",
       "      <td>23    Rumble in the Bronx (1995)\n",
       "Name: movie_t...</td>\n",
       "    </tr>\n",
       "    <tr>\n",
       "      <th>7</th>\n",
       "      <td></td>\n",
       "      <td>26    Bad Boys (1995)\n",
       "Name: movie_title, dtype...</td>\n",
       "    </tr>\n",
       "    <tr>\n",
       "      <th>8</th>\n",
       "      <td></td>\n",
       "      <td>27    Apollo 13 (1995)\n",
       "Name: movie_title, dtyp...</td>\n",
       "    </tr>\n",
       "    <tr>\n",
       "      <th>9</th>\n",
       "      <td></td>\n",
       "      <td>30    Crimson Tide (1995)\n",
       "Name: movie_title, d...</td>\n",
       "    </tr>\n",
       "    <tr>\n",
       "      <th>10</th>\n",
       "      <td></td>\n",
       "      <td>37    Net, The (1995)\n",
       "Name: movie_title, dtype...</td>\n",
       "    </tr>\n",
       "    <tr>\n",
       "      <th>11</th>\n",
       "      <td></td>\n",
       "      <td>40    Billy Madison (1995)\n",
       "Name: movie_title, ...</td>\n",
       "    </tr>\n",
       "    <tr>\n",
       "      <th>12</th>\n",
       "      <td></td>\n",
       "      <td>41    Clerks (1994)\n",
       "Name: movie_title, dtype: ...</td>\n",
       "    </tr>\n",
       "    <tr>\n",
       "      <th>13</th>\n",
       "      <td></td>\n",
       "      <td>49    Star Wars (1977)\n",
       "Name: movie_title, dtyp...</td>\n",
       "    </tr>\n",
       "    <tr>\n",
       "      <th>14</th>\n",
       "      <td></td>\n",
       "      <td>50    Legends of the Fall (1994)\n",
       "Name: movie_t...</td>\n",
       "    </tr>\n",
       "    <tr>\n",
       "      <th>15</th>\n",
       "      <td></td>\n",
       "      <td>52    Natural Born Killers (1994)\n",
       "Name: movie_...</td>\n",
       "    </tr>\n",
       "    <tr>\n",
       "      <th>16</th>\n",
       "      <td></td>\n",
       "      <td>53    Outbreak (1995)\n",
       "Name: movie_title, dtype...</td>\n",
       "    </tr>\n",
       "    <tr>\n",
       "      <th>17</th>\n",
       "      <td></td>\n",
       "      <td>54    Professional, The (1994)\n",
       "Name: movie_tit...</td>\n",
       "    </tr>\n",
       "    <tr>\n",
       "      <th>18</th>\n",
       "      <td></td>\n",
       "      <td>55    Pulp Fiction (1994)\n",
       "Name: movie_title, d...</td>\n",
       "    </tr>\n",
       "    <tr>\n",
       "      <th>19</th>\n",
       "      <td></td>\n",
       "      <td>57    Quiz Show (1994)\n",
       "Name: movie_title, dtyp...</td>\n",
       "    </tr>\n",
       "    <tr>\n",
       "      <th>20</th>\n",
       "      <td></td>\n",
       "      <td>61    Stargate (1994)\n",
       "Name: movie_title, dtype...</td>\n",
       "    </tr>\n",
       "    <tr>\n",
       "      <th>21</th>\n",
       "      <td></td>\n",
       "      <td>63    Shawshank Redemption, The (1994)\n",
       "Name: m...</td>\n",
       "    </tr>\n",
       "    <tr>\n",
       "      <th>22</th>\n",
       "      <td></td>\n",
       "      <td>66    Ace Ventura: Pet Detective (1994)\n",
       "Name: ...</td>\n",
       "    </tr>\n",
       "    <tr>\n",
       "      <th>23</th>\n",
       "      <td></td>\n",
       "      <td>67    Crow, The (1994)\n",
       "Name: movie_title, dtyp...</td>\n",
       "    </tr>\n",
       "    <tr>\n",
       "      <th>24</th>\n",
       "      <td></td>\n",
       "      <td>68    Forrest Gump (1994)\n",
       "Name: movie_title, d...</td>\n",
       "    </tr>\n",
       "    <tr>\n",
       "      <th>25</th>\n",
       "      <td></td>\n",
       "      <td>71    Mask, The (1994)\n",
       "Name: movie_title, dtyp...</td>\n",
       "    </tr>\n",
       "    <tr>\n",
       "      <th>26</th>\n",
       "      <td></td>\n",
       "      <td>72    Maverick (1994)\n",
       "Name: movie_title, dtype...</td>\n",
       "    </tr>\n",
       "    <tr>\n",
       "      <th>27</th>\n",
       "      <td></td>\n",
       "      <td>75    Carlito's Way (1993)\n",
       "Name: movie_title, ...</td>\n",
       "    </tr>\n",
       "    <tr>\n",
       "      <th>28</th>\n",
       "      <td></td>\n",
       "      <td>78    Fugitive, The (1993)\n",
       "Name: movie_title, ...</td>\n",
       "    </tr>\n",
       "    <tr>\n",
       "      <th>29</th>\n",
       "      <td></td>\n",
       "      <td>79    Hot Shots! Part Deux (1993)\n",
       "Name: movie_...</td>\n",
       "    </tr>\n",
       "    <tr>\n",
       "      <th>...</th>\n",
       "      <td>...</td>\n",
       "      <td>...</td>\n",
       "    </tr>\n",
       "    <tr>\n",
       "      <th>138</th>\n",
       "      <td></td>\n",
       "      <td>719    First Knight (1995)\n",
       "Name: movie_title, ...</td>\n",
       "    </tr>\n",
       "    <tr>\n",
       "      <th>139</th>\n",
       "      <td></td>\n",
       "      <td>720    Mallrats (1995)\n",
       "Name: movie_title, dtyp...</td>\n",
       "    </tr>\n",
       "    <tr>\n",
       "      <th>140</th>\n",
       "      <td></td>\n",
       "      <td>721    Nine Months (1995)\n",
       "Name: movie_title, d...</td>\n",
       "    </tr>\n",
       "    <tr>\n",
       "      <th>141</th>\n",
       "      <td></td>\n",
       "      <td>723    Circle of Friends (1995)\n",
       "Name: movie_ti...</td>\n",
       "    </tr>\n",
       "    <tr>\n",
       "      <th>142</th>\n",
       "      <td></td>\n",
       "      <td>731    Dave (1993)\n",
       "Name: movie_title, dtype: o...</td>\n",
       "    </tr>\n",
       "    <tr>\n",
       "      <th>143</th>\n",
       "      <td></td>\n",
       "      <td>738    Pretty Woman (1990)\n",
       "Name: movie_title, ...</td>\n",
       "    </tr>\n",
       "    <tr>\n",
       "      <th>144</th>\n",
       "      <td></td>\n",
       "      <td>755    Father of the Bride Part II (1995)\n",
       "Name...</td>\n",
       "    </tr>\n",
       "    <tr>\n",
       "      <th>145</th>\n",
       "      <td></td>\n",
       "      <td>762    Happy Gilmore (1996)\n",
       "Name: movie_title,...</td>\n",
       "    </tr>\n",
       "    <tr>\n",
       "      <th>146</th>\n",
       "      <td></td>\n",
       "      <td>764    Boomerang (1992)\n",
       "Name: movie_title, dty...</td>\n",
       "    </tr>\n",
       "    <tr>\n",
       "      <th>147</th>\n",
       "      <td></td>\n",
       "      <td>784    Only You (1994)\n",
       "Name: movie_title, dtyp...</td>\n",
       "    </tr>\n",
       "    <tr>\n",
       "      <th>148</th>\n",
       "      <td></td>\n",
       "      <td>793    It Could Happen to You (1994)\n",
       "Name: mov...</td>\n",
       "    </tr>\n",
       "    <tr>\n",
       "      <th>149</th>\n",
       "      <td></td>\n",
       "      <td>795    Speechless (1994)\n",
       "Name: movie_title, dt...</td>\n",
       "    </tr>\n",
       "    <tr>\n",
       "      <th>150</th>\n",
       "      <td></td>\n",
       "      <td>807    Program, The (1993)\n",
       "Name: movie_title, ...</td>\n",
       "    </tr>\n",
       "    <tr>\n",
       "      <th>151</th>\n",
       "      <td></td>\n",
       "      <td>815    Candyman: Farewell to the Flesh (1995)\n",
       "...</td>\n",
       "    </tr>\n",
       "    <tr>\n",
       "      <th>152</th>\n",
       "      <td></td>\n",
       "      <td>823    Great White Hype, The (1996)\n",
       "Name: movi...</td>\n",
       "    </tr>\n",
       "    <tr>\n",
       "      <th>153</th>\n",
       "      <td></td>\n",
       "      <td>824    Arrival, The (1996)\n",
       "Name: movie_title, ...</td>\n",
       "    </tr>\n",
       "    <tr>\n",
       "      <th>154</th>\n",
       "      <td></td>\n",
       "      <td>830    Escape from L.A. (1996)\n",
       "Name: movie_tit...</td>\n",
       "    </tr>\n",
       "    <tr>\n",
       "      <th>155</th>\n",
       "      <td></td>\n",
       "      <td>839    Last Man Standing (1996)\n",
       "Name: movie_ti...</td>\n",
       "    </tr>\n",
       "    <tr>\n",
       "      <th>156</th>\n",
       "      <td></td>\n",
       "      <td>927    Craft, The (1996)\n",
       "Name: movie_title, dt...</td>\n",
       "    </tr>\n",
       "    <tr>\n",
       "      <th>157</th>\n",
       "      <td></td>\n",
       "      <td>940    With Honors (1994)\n",
       "Name: movie_title, d...</td>\n",
       "    </tr>\n",
       "    <tr>\n",
       "      <th>158</th>\n",
       "      <td></td>\n",
       "      <td>942    Killing Zoe (1994)\n",
       "Name: movie_title, d...</td>\n",
       "    </tr>\n",
       "    <tr>\n",
       "      <th>159</th>\n",
       "      <td></td>\n",
       "      <td>1010    2 Days in the Valley (1996)\n",
       "Name: movi...</td>\n",
       "    </tr>\n",
       "    <tr>\n",
       "      <th>160</th>\n",
       "      <td></td>\n",
       "      <td>1027    Grumpier Old Men (1995)\n",
       "Name: movie_ti...</td>\n",
       "    </tr>\n",
       "    <tr>\n",
       "      <th>161</th>\n",
       "      <td></td>\n",
       "      <td>1043    Paper, The (1994)\n",
       "Name: movie_title, d...</td>\n",
       "    </tr>\n",
       "    <tr>\n",
       "      <th>162</th>\n",
       "      <td></td>\n",
       "      <td>1046    Multiplicity (1996)\n",
       "Name: movie_title,...</td>\n",
       "    </tr>\n",
       "    <tr>\n",
       "      <th>163</th>\n",
       "      <td></td>\n",
       "      <td>1066    Bottle Rocket (1996)\n",
       "Name: movie_title...</td>\n",
       "    </tr>\n",
       "    <tr>\n",
       "      <th>164</th>\n",
       "      <td></td>\n",
       "      <td>1073    Reality Bites (1994)\n",
       "Name: movie_title...</td>\n",
       "    </tr>\n",
       "    <tr>\n",
       "      <th>165</th>\n",
       "      <td></td>\n",
       "      <td>1187    Young Guns II (1990)\n",
       "Name: movie_title...</td>\n",
       "    </tr>\n",
       "    <tr>\n",
       "      <th>166</th>\n",
       "      <td></td>\n",
       "      <td>1227    Under Siege 2: Dark Territory (1995)\n",
       "N...</td>\n",
       "    </tr>\n",
       "    <tr>\n",
       "      <th>167</th>\n",
       "      <td></td>\n",
       "      <td>1329    An Unforgettable Summer (1994)\n",
       "Name: m...</td>\n",
       "    </tr>\n",
       "  </tbody>\n",
       "</table>\n",
       "<p>168 rows × 2 columns</p>\n",
       "</div>"
      ],
      "text/plain": [
       "    Recommended Movies                                     Watched Movies\n",
       "0     GoldenEye (1995)  1    GoldenEye (1995)\n",
       "Name: movie_title, dtype...\n",
       "1                       8    Dead Man Walking (1995)\n",
       "Name: movie_title...\n",
       "2                       10    Seven (Se7en) (1995)\n",
       "Name: movie_title, ...\n",
       "3                       11    Usual Suspects, The (1995)\n",
       "Name: movie_t...\n",
       "4                       21    Braveheart (1995)\n",
       "Name: movie_title, dty...\n",
       "5                       22    Taxi Driver (1976)\n",
       "Name: movie_title, dt...\n",
       "6                       23    Rumble in the Bronx (1995)\n",
       "Name: movie_t...\n",
       "7                       26    Bad Boys (1995)\n",
       "Name: movie_title, dtype...\n",
       "8                       27    Apollo 13 (1995)\n",
       "Name: movie_title, dtyp...\n",
       "9                       30    Crimson Tide (1995)\n",
       "Name: movie_title, d...\n",
       "10                      37    Net, The (1995)\n",
       "Name: movie_title, dtype...\n",
       "11                      40    Billy Madison (1995)\n",
       "Name: movie_title, ...\n",
       "12                      41    Clerks (1994)\n",
       "Name: movie_title, dtype: ...\n",
       "13                      49    Star Wars (1977)\n",
       "Name: movie_title, dtyp...\n",
       "14                      50    Legends of the Fall (1994)\n",
       "Name: movie_t...\n",
       "15                      52    Natural Born Killers (1994)\n",
       "Name: movie_...\n",
       "16                      53    Outbreak (1995)\n",
       "Name: movie_title, dtype...\n",
       "17                      54    Professional, The (1994)\n",
       "Name: movie_tit...\n",
       "18                      55    Pulp Fiction (1994)\n",
       "Name: movie_title, d...\n",
       "19                      57    Quiz Show (1994)\n",
       "Name: movie_title, dtyp...\n",
       "20                      61    Stargate (1994)\n",
       "Name: movie_title, dtype...\n",
       "21                      63    Shawshank Redemption, The (1994)\n",
       "Name: m...\n",
       "22                      66    Ace Ventura: Pet Detective (1994)\n",
       "Name: ...\n",
       "23                      67    Crow, The (1994)\n",
       "Name: movie_title, dtyp...\n",
       "24                      68    Forrest Gump (1994)\n",
       "Name: movie_title, d...\n",
       "25                      71    Mask, The (1994)\n",
       "Name: movie_title, dtyp...\n",
       "26                      72    Maverick (1994)\n",
       "Name: movie_title, dtype...\n",
       "27                      75    Carlito's Way (1993)\n",
       "Name: movie_title, ...\n",
       "28                      78    Fugitive, The (1993)\n",
       "Name: movie_title, ...\n",
       "29                      79    Hot Shots! Part Deux (1993)\n",
       "Name: movie_...\n",
       "..                 ...                                                ...\n",
       "138                     719    First Knight (1995)\n",
       "Name: movie_title, ...\n",
       "139                     720    Mallrats (1995)\n",
       "Name: movie_title, dtyp...\n",
       "140                     721    Nine Months (1995)\n",
       "Name: movie_title, d...\n",
       "141                     723    Circle of Friends (1995)\n",
       "Name: movie_ti...\n",
       "142                     731    Dave (1993)\n",
       "Name: movie_title, dtype: o...\n",
       "143                     738    Pretty Woman (1990)\n",
       "Name: movie_title, ...\n",
       "144                     755    Father of the Bride Part II (1995)\n",
       "Name...\n",
       "145                     762    Happy Gilmore (1996)\n",
       "Name: movie_title,...\n",
       "146                     764    Boomerang (1992)\n",
       "Name: movie_title, dty...\n",
       "147                     784    Only You (1994)\n",
       "Name: movie_title, dtyp...\n",
       "148                     793    It Could Happen to You (1994)\n",
       "Name: mov...\n",
       "149                     795    Speechless (1994)\n",
       "Name: movie_title, dt...\n",
       "150                     807    Program, The (1993)\n",
       "Name: movie_title, ...\n",
       "151                     815    Candyman: Farewell to the Flesh (1995)\n",
       "...\n",
       "152                     823    Great White Hype, The (1996)\n",
       "Name: movi...\n",
       "153                     824    Arrival, The (1996)\n",
       "Name: movie_title, ...\n",
       "154                     830    Escape from L.A. (1996)\n",
       "Name: movie_tit...\n",
       "155                     839    Last Man Standing (1996)\n",
       "Name: movie_ti...\n",
       "156                     927    Craft, The (1996)\n",
       "Name: movie_title, dt...\n",
       "157                     940    With Honors (1994)\n",
       "Name: movie_title, d...\n",
       "158                     942    Killing Zoe (1994)\n",
       "Name: movie_title, d...\n",
       "159                     1010    2 Days in the Valley (1996)\n",
       "Name: movi...\n",
       "160                     1027    Grumpier Old Men (1995)\n",
       "Name: movie_ti...\n",
       "161                     1043    Paper, The (1994)\n",
       "Name: movie_title, d...\n",
       "162                     1046    Multiplicity (1996)\n",
       "Name: movie_title,...\n",
       "163                     1066    Bottle Rocket (1996)\n",
       "Name: movie_title...\n",
       "164                     1073    Reality Bites (1994)\n",
       "Name: movie_title...\n",
       "165                     1187    Young Guns II (1990)\n",
       "Name: movie_title...\n",
       "166                     1227    Under Siege 2: Dark Territory (1995)\n",
       "N...\n",
       "167                     1329    An Unforgettable Summer (1994)\n",
       "Name: m...\n",
       "\n",
       "[168 rows x 2 columns]"
      ]
     },
     "execution_count": 48,
     "metadata": {},
     "output_type": "execute_result"
    }
   ],
   "source": [
    "recommended_movies"
   ]
  },
  {
   "cell_type": "markdown",
   "metadata": {},
   "source": [
    "## KNN using Surprise Package"
   ]
  },
  {
   "cell_type": "code",
   "execution_count": 25,
   "metadata": {
    "collapsed": true
   },
   "outputs": [],
   "source": [
    "movie_data = Dataset.load_builtin('ml-100k')\n",
    "movie_data.split(n_folds=3)"
   ]
  },
  {
   "cell_type": "code",
   "execution_count": 26,
   "metadata": {
    "collapsed": true
   },
   "outputs": [],
   "source": [
    "knn_algorithm = knn(k=10, min_k=1)"
   ]
  },
  {
   "cell_type": "code",
   "execution_count": 28,
   "metadata": {
    "collapsed": true
   },
   "outputs": [
    {
     "name": "stdout",
     "output_type": "stream",
     "text": [
      "Computing the msd similarity matrix...\n",
      "Done computing similarity matrix.\n",
      "Computing the msd similarity matrix...\n",
      "Done computing similarity matrix.\n",
      "Computing the msd similarity matrix...\n",
      "Done computing similarity matrix.\n"
     ]
    }
   ],
   "source": [
    "for train_set, test_set in movie_data.folds():\n",
    "    knn_algorithm.train(train_set)\n",
    "    pred = knn_algorithm.test(test_set)"
   ]
  },
  {
   "cell_type": "code",
   "execution_count": 29,
   "metadata": {
    "collapsed": true
   },
   "outputs": [
    {
     "name": "stdout",
     "output_type": "stream",
     "text": [
      "Evaluating RMSE, MAE of algorithm KNNWithMeans.\n",
      "\n",
      "------------\n",
      "Fold 1\n",
      "Computing the msd similarity matrix...\n",
      "Done computing similarity matrix.\n",
      "RMSE: 0.9819\n",
      "MAE:  0.7763\n",
      "------------\n",
      "Fold 2\n",
      "Computing the msd similarity matrix...\n",
      "Done computing similarity matrix.\n",
      "RMSE: 0.9828\n",
      "MAE:  0.7750\n",
      "------------\n",
      "Fold 3\n",
      "Computing the msd similarity matrix...\n",
      "Done computing similarity matrix.\n",
      "RMSE: 0.9767\n",
      "MAE:  0.7709\n",
      "------------\n",
      "------------\n",
      "Mean RMSE: 0.9805\n",
      "Mean MAE : 0.7741\n",
      "------------\n",
      "------------\n"
     ]
    }
   ],
   "source": [
    "evaluation = evaluate(knn_algorithm, movie_data, measures=['RMSE', 'MAE'])"
   ]
  },
  {
   "cell_type": "markdown",
   "metadata": {},
   "source": [
    "## Recommending movies for one user"
   ]
  },
  {
   "cell_type": "code",
   "execution_count": 30,
   "metadata": {
    "collapsed": false
   },
   "outputs": [],
   "source": [
    "predict = []\n",
    "for i in range(1682):\n",
    "    predict.append(knn_algorithm.predict('330', str(i), r_ui = test_set).est)"
   ]
  },
  {
   "cell_type": "code",
   "execution_count": 35,
   "metadata": {
    "collapsed": true
   },
   "outputs": [],
   "source": [
    "top_movies = sorted(predict, reverse=True)[:5]"
   ]
  },
  {
   "cell_type": "code",
   "execution_count": 44,
   "metadata": {
    "collapsed": true
   },
   "outputs": [
    {
     "data": {
      "text/plain": [
       "[15, 22, 25, 50, 56]"
      ]
     },
     "execution_count": 44,
     "metadata": {},
     "output_type": "execute_result"
    }
   ],
   "source": [
    "## Function to get the index of the movie\n",
    "get_index = lambda x, xs: [i for (y, i) in zip(xs, range(len(xs))) if x == y]\n",
    "\n",
    "indices = []\n",
    "predict = list(predict)\n",
    "count = 1\n",
    "for i in top_movies:\n",
    "    if predict.index(i) in indexes:\n",
    "        indices.append(get_index(i, predict)[count])\n",
    "        count += 1\n",
    "    else:\n",
    "        indexes.append(predict.index(i))\n",
    "indices"
   ]
  },
  {
   "cell_type": "code",
   "execution_count": 42,
   "metadata": {
    "collapsed": true
   },
   "outputs": [
    {
     "name": "stdout",
     "output_type": "stream",
     "text": [
      "15    French Twist (Gazon maudit) (1995)\n",
      "Name: movie_title, dtype: object\n",
      "22    Taxi Driver (1976)\n",
      "Name: movie_title, dtype: object\n",
      "25    Brothers McMullen, The (1995)\n",
      "Name: movie_title, dtype: object\n",
      "50    Legends of the Fall (1994)\n",
      "Name: movie_title, dtype: object\n",
      "56    Priest (1994)\n",
      "Name: movie_title, dtype: object\n"
     ]
    }
   ],
   "source": [
    "for i in indices:\n",
    "    recommended_movie = movies.movie_title[movies['movie_id'] == i+1]\n",
    "    print(recommended_movie)"
   ]
  }
 ],
 "metadata": {
  "kernelspec": {
   "display_name": "Python 3",
   "language": "python",
   "name": "python3"
  },
  "language_info": {
   "codemirror_mode": {
    "name": "ipython",
    "version": 3
   },
   "file_extension": ".py",
   "mimetype": "text/x-python",
   "name": "python",
   "nbconvert_exporter": "python",
   "pygments_lexer": "ipython3",
   "version": "3.5.2"
  }
 },
 "nbformat": 4,
 "nbformat_minor": 2
}
